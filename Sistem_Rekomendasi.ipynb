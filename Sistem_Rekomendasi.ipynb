{
  "nbformat": 4,
  "nbformat_minor": 0,
  "metadata": {
    "colab": {
      "provenance": []
    },
    "kernelspec": {
      "name": "python3",
      "display_name": "Python 3"
    },
    "language_info": {
      "name": "python"
    }
  },
  "cells": [
    {
      "cell_type": "code",
      "execution_count": 1,
      "metadata": {
        "colab": {
          "base_uri": "https://localhost:8080/",
          "height": 206
        },
        "id": "tMPCLMJ9H4bC",
        "outputId": "bef63a1a-bcad-4923-a97b-93df86607f1d"
      },
      "outputs": [
        {
          "output_type": "execute_result",
          "data": {
            "text/plain": [
              "                   Mitra                                             Alamat  \\\n",
              "0   Setyo Hendro Prayoga            Puguh RT 2 RW 1 Kec.Pegandon Kab.Kendal   \n",
              "1         Power Academy   Jl. Mampang Prapatan Raya no 84A Tegal Parang ...   \n",
              "2                Zenius   East Kuningan Setiabudi South Jakarta 12950 In...   \n",
              "3              Hacktiv8   Gedung Aquarius Lt. 1&2 Jl. Sultan Iskandar Mu...   \n",
              "4  Orbit Future Academy   Veteran RI Building 15th Floor Unit Z15-002 Pl...   \n",
              "\n",
              "                                               Modul  \n",
              "0  Implementasi Basis Data Web Service Sistem Bas...  \n",
              "1  Logika dan Konsep Teknologi AI Siklus Projek A...  \n",
              "2  Kemampuan Literasi Numerasi dan Berpikir Saint...  \n",
              "3  Memahami serta mengimplementasikan library hin...  \n",
              "4  Natural Language Processing Artificial Intelli...  "
            ],
            "text/html": [
              "\n",
              "  <div id=\"df-76ca7cd1-098c-4a3e-9732-a3e5f53eec86\">\n",
              "    <div class=\"colab-df-container\">\n",
              "      <div>\n",
              "<style scoped>\n",
              "    .dataframe tbody tr th:only-of-type {\n",
              "        vertical-align: middle;\n",
              "    }\n",
              "\n",
              "    .dataframe tbody tr th {\n",
              "        vertical-align: top;\n",
              "    }\n",
              "\n",
              "    .dataframe thead th {\n",
              "        text-align: right;\n",
              "    }\n",
              "</style>\n",
              "<table border=\"1\" class=\"dataframe\">\n",
              "  <thead>\n",
              "    <tr style=\"text-align: right;\">\n",
              "      <th></th>\n",
              "      <th>Mitra</th>\n",
              "      <th>Alamat</th>\n",
              "      <th>Modul</th>\n",
              "    </tr>\n",
              "  </thead>\n",
              "  <tbody>\n",
              "    <tr>\n",
              "      <th>0</th>\n",
              "      <td>Setyo Hendro Prayoga</td>\n",
              "      <td>Puguh RT 2 RW 1 Kec.Pegandon Kab.Kendal</td>\n",
              "      <td>Implementasi Basis Data Web Service Sistem Bas...</td>\n",
              "    </tr>\n",
              "    <tr>\n",
              "      <th>1</th>\n",
              "      <td>Power Academy</td>\n",
              "      <td>Jl. Mampang Prapatan Raya no 84A Tegal Parang ...</td>\n",
              "      <td>Logika dan Konsep Teknologi AI Siklus Projek A...</td>\n",
              "    </tr>\n",
              "    <tr>\n",
              "      <th>2</th>\n",
              "      <td>Zenius</td>\n",
              "      <td>East Kuningan Setiabudi South Jakarta 12950 In...</td>\n",
              "      <td>Kemampuan Literasi Numerasi dan Berpikir Saint...</td>\n",
              "    </tr>\n",
              "    <tr>\n",
              "      <th>3</th>\n",
              "      <td>Hacktiv8</td>\n",
              "      <td>Gedung Aquarius Lt. 1&amp;2 Jl. Sultan Iskandar Mu...</td>\n",
              "      <td>Memahami serta mengimplementasikan library hin...</td>\n",
              "    </tr>\n",
              "    <tr>\n",
              "      <th>4</th>\n",
              "      <td>Orbit Future Academy</td>\n",
              "      <td>Veteran RI Building 15th Floor Unit Z15-002 Pl...</td>\n",
              "      <td>Natural Language Processing Artificial Intelli...</td>\n",
              "    </tr>\n",
              "  </tbody>\n",
              "</table>\n",
              "</div>\n",
              "      <button class=\"colab-df-convert\" onclick=\"convertToInteractive('df-76ca7cd1-098c-4a3e-9732-a3e5f53eec86')\"\n",
              "              title=\"Convert this dataframe to an interactive table.\"\n",
              "              style=\"display:none;\">\n",
              "        \n",
              "  <svg xmlns=\"http://www.w3.org/2000/svg\" height=\"24px\"viewBox=\"0 0 24 24\"\n",
              "       width=\"24px\">\n",
              "    <path d=\"M0 0h24v24H0V0z\" fill=\"none\"/>\n",
              "    <path d=\"M18.56 5.44l.94 2.06.94-2.06 2.06-.94-2.06-.94-.94-2.06-.94 2.06-2.06.94zm-11 1L8.5 8.5l.94-2.06 2.06-.94-2.06-.94L8.5 2.5l-.94 2.06-2.06.94zm10 10l.94 2.06.94-2.06 2.06-.94-2.06-.94-.94-2.06-.94 2.06-2.06.94z\"/><path d=\"M17.41 7.96l-1.37-1.37c-.4-.4-.92-.59-1.43-.59-.52 0-1.04.2-1.43.59L10.3 9.45l-7.72 7.72c-.78.78-.78 2.05 0 2.83L4 21.41c.39.39.9.59 1.41.59.51 0 1.02-.2 1.41-.59l7.78-7.78 2.81-2.81c.8-.78.8-2.07 0-2.86zM5.41 20L4 18.59l7.72-7.72 1.47 1.35L5.41 20z\"/>\n",
              "  </svg>\n",
              "      </button>\n",
              "      \n",
              "  <style>\n",
              "    .colab-df-container {\n",
              "      display:flex;\n",
              "      flex-wrap:wrap;\n",
              "      gap: 12px;\n",
              "    }\n",
              "\n",
              "    .colab-df-convert {\n",
              "      background-color: #E8F0FE;\n",
              "      border: none;\n",
              "      border-radius: 50%;\n",
              "      cursor: pointer;\n",
              "      display: none;\n",
              "      fill: #1967D2;\n",
              "      height: 32px;\n",
              "      padding: 0 0 0 0;\n",
              "      width: 32px;\n",
              "    }\n",
              "\n",
              "    .colab-df-convert:hover {\n",
              "      background-color: #E2EBFA;\n",
              "      box-shadow: 0px 1px 2px rgba(60, 64, 67, 0.3), 0px 1px 3px 1px rgba(60, 64, 67, 0.15);\n",
              "      fill: #174EA6;\n",
              "    }\n",
              "\n",
              "    [theme=dark] .colab-df-convert {\n",
              "      background-color: #3B4455;\n",
              "      fill: #D2E3FC;\n",
              "    }\n",
              "\n",
              "    [theme=dark] .colab-df-convert:hover {\n",
              "      background-color: #434B5C;\n",
              "      box-shadow: 0px 1px 3px 1px rgba(0, 0, 0, 0.15);\n",
              "      filter: drop-shadow(0px 1px 2px rgba(0, 0, 0, 0.3));\n",
              "      fill: #FFFFFF;\n",
              "    }\n",
              "  </style>\n",
              "\n",
              "      <script>\n",
              "        const buttonEl =\n",
              "          document.querySelector('#df-76ca7cd1-098c-4a3e-9732-a3e5f53eec86 button.colab-df-convert');\n",
              "        buttonEl.style.display =\n",
              "          google.colab.kernel.accessAllowed ? 'block' : 'none';\n",
              "\n",
              "        async function convertToInteractive(key) {\n",
              "          const element = document.querySelector('#df-76ca7cd1-098c-4a3e-9732-a3e5f53eec86');\n",
              "          const dataTable =\n",
              "            await google.colab.kernel.invokeFunction('convertToInteractive',\n",
              "                                                     [key], {});\n",
              "          if (!dataTable) return;\n",
              "\n",
              "          const docLinkHtml = 'Like what you see? Visit the ' +\n",
              "            '<a target=\"_blank\" href=https://colab.research.google.com/notebooks/data_table.ipynb>data table notebook</a>'\n",
              "            + ' to learn more about interactive tables.';\n",
              "          element.innerHTML = '';\n",
              "          dataTable['output_type'] = 'display_data';\n",
              "          await google.colab.output.renderOutput(dataTable, element);\n",
              "          const docLink = document.createElement('div');\n",
              "          docLink.innerHTML = docLinkHtml;\n",
              "          element.appendChild(docLink);\n",
              "        }\n",
              "      </script>\n",
              "    </div>\n",
              "  </div>\n",
              "  "
            ]
          },
          "metadata": {},
          "execution_count": 1
        }
      ],
      "source": [
        "import pandas as pd\n",
        "import numpy as np\n",
        "from sklearn.metrics.pairwise import cosine_similarity\n",
        "from sklearn.feature_extraction.text import TfidfVectorizer\n",
        "from nltk.corpus import stopwords\n",
        "import re\n",
        "import random\n",
        "\n",
        "df = pd.read_csv(\"https://raw.githubusercontent.com/Youga19/Tugas-Sistem-Rekomendasi/main/sistem%20rekomendasi.csv\")\n",
        "df.head()"
      ]
    },
    {
      "cell_type": "markdown",
      "source": [
        "\n",
        "\n",
        "1.   **Ikhtisar**\n",
        "\n"
      ],
      "metadata": {
        "id": "TqZKHqhMISUL"
      }
    },
    {
      "cell_type": "code",
      "source": [
        "df.describe()"
      ],
      "metadata": {
        "colab": {
          "base_uri": "https://localhost:8080/",
          "height": 175
        },
        "id": "f_aBBfp4ILlX",
        "outputId": "5102ce92-9cca-40af-a697-24a9c9682aeb"
      },
      "execution_count": 2,
      "outputs": [
        {
          "output_type": "execute_result",
          "data": {
            "text/plain": [
              "                       Mitra  \\\n",
              "count                      9   \n",
              "unique                     9   \n",
              "top     Setyo Hendro Prayoga   \n",
              "freq                       1   \n",
              "\n",
              "                                                   Alamat  \\\n",
              "count                                                   9   \n",
              "unique                                                  8   \n",
              "top     Menara Bidakara 1  Lantai 2 Jl. Gatot Subroto ...   \n",
              "freq                                                    2   \n",
              "\n",
              "                                                    Modul  \n",
              "count                                                   9  \n",
              "unique                                                  9  \n",
              "top     Implementasi Basis Data Web Service Sistem Bas...  \n",
              "freq                                                    1  "
            ],
            "text/html": [
              "\n",
              "  <div id=\"df-0556cfd6-e82b-445a-b7f5-ff4de2e17abe\">\n",
              "    <div class=\"colab-df-container\">\n",
              "      <div>\n",
              "<style scoped>\n",
              "    .dataframe tbody tr th:only-of-type {\n",
              "        vertical-align: middle;\n",
              "    }\n",
              "\n",
              "    .dataframe tbody tr th {\n",
              "        vertical-align: top;\n",
              "    }\n",
              "\n",
              "    .dataframe thead th {\n",
              "        text-align: right;\n",
              "    }\n",
              "</style>\n",
              "<table border=\"1\" class=\"dataframe\">\n",
              "  <thead>\n",
              "    <tr style=\"text-align: right;\">\n",
              "      <th></th>\n",
              "      <th>Mitra</th>\n",
              "      <th>Alamat</th>\n",
              "      <th>Modul</th>\n",
              "    </tr>\n",
              "  </thead>\n",
              "  <tbody>\n",
              "    <tr>\n",
              "      <th>count</th>\n",
              "      <td>9</td>\n",
              "      <td>9</td>\n",
              "      <td>9</td>\n",
              "    </tr>\n",
              "    <tr>\n",
              "      <th>unique</th>\n",
              "      <td>9</td>\n",
              "      <td>8</td>\n",
              "      <td>9</td>\n",
              "    </tr>\n",
              "    <tr>\n",
              "      <th>top</th>\n",
              "      <td>Setyo Hendro Prayoga</td>\n",
              "      <td>Menara Bidakara 1  Lantai 2 Jl. Gatot Subroto ...</td>\n",
              "      <td>Implementasi Basis Data Web Service Sistem Bas...</td>\n",
              "    </tr>\n",
              "    <tr>\n",
              "      <th>freq</th>\n",
              "      <td>1</td>\n",
              "      <td>2</td>\n",
              "      <td>1</td>\n",
              "    </tr>\n",
              "  </tbody>\n",
              "</table>\n",
              "</div>\n",
              "      <button class=\"colab-df-convert\" onclick=\"convertToInteractive('df-0556cfd6-e82b-445a-b7f5-ff4de2e17abe')\"\n",
              "              title=\"Convert this dataframe to an interactive table.\"\n",
              "              style=\"display:none;\">\n",
              "        \n",
              "  <svg xmlns=\"http://www.w3.org/2000/svg\" height=\"24px\"viewBox=\"0 0 24 24\"\n",
              "       width=\"24px\">\n",
              "    <path d=\"M0 0h24v24H0V0z\" fill=\"none\"/>\n",
              "    <path d=\"M18.56 5.44l.94 2.06.94-2.06 2.06-.94-2.06-.94-.94-2.06-.94 2.06-2.06.94zm-11 1L8.5 8.5l.94-2.06 2.06-.94-2.06-.94L8.5 2.5l-.94 2.06-2.06.94zm10 10l.94 2.06.94-2.06 2.06-.94-2.06-.94-.94-2.06-.94 2.06-2.06.94z\"/><path d=\"M17.41 7.96l-1.37-1.37c-.4-.4-.92-.59-1.43-.59-.52 0-1.04.2-1.43.59L10.3 9.45l-7.72 7.72c-.78.78-.78 2.05 0 2.83L4 21.41c.39.39.9.59 1.41.59.51 0 1.02-.2 1.41-.59l7.78-7.78 2.81-2.81c.8-.78.8-2.07 0-2.86zM5.41 20L4 18.59l7.72-7.72 1.47 1.35L5.41 20z\"/>\n",
              "  </svg>\n",
              "      </button>\n",
              "      \n",
              "  <style>\n",
              "    .colab-df-container {\n",
              "      display:flex;\n",
              "      flex-wrap:wrap;\n",
              "      gap: 12px;\n",
              "    }\n",
              "\n",
              "    .colab-df-convert {\n",
              "      background-color: #E8F0FE;\n",
              "      border: none;\n",
              "      border-radius: 50%;\n",
              "      cursor: pointer;\n",
              "      display: none;\n",
              "      fill: #1967D2;\n",
              "      height: 32px;\n",
              "      padding: 0 0 0 0;\n",
              "      width: 32px;\n",
              "    }\n",
              "\n",
              "    .colab-df-convert:hover {\n",
              "      background-color: #E2EBFA;\n",
              "      box-shadow: 0px 1px 2px rgba(60, 64, 67, 0.3), 0px 1px 3px 1px rgba(60, 64, 67, 0.15);\n",
              "      fill: #174EA6;\n",
              "    }\n",
              "\n",
              "    [theme=dark] .colab-df-convert {\n",
              "      background-color: #3B4455;\n",
              "      fill: #D2E3FC;\n",
              "    }\n",
              "\n",
              "    [theme=dark] .colab-df-convert:hover {\n",
              "      background-color: #434B5C;\n",
              "      box-shadow: 0px 1px 3px 1px rgba(0, 0, 0, 0.15);\n",
              "      filter: drop-shadow(0px 1px 2px rgba(0, 0, 0, 0.3));\n",
              "      fill: #FFFFFF;\n",
              "    }\n",
              "  </style>\n",
              "\n",
              "      <script>\n",
              "        const buttonEl =\n",
              "          document.querySelector('#df-0556cfd6-e82b-445a-b7f5-ff4de2e17abe button.colab-df-convert');\n",
              "        buttonEl.style.display =\n",
              "          google.colab.kernel.accessAllowed ? 'block' : 'none';\n",
              "\n",
              "        async function convertToInteractive(key) {\n",
              "          const element = document.querySelector('#df-0556cfd6-e82b-445a-b7f5-ff4de2e17abe');\n",
              "          const dataTable =\n",
              "            await google.colab.kernel.invokeFunction('convertToInteractive',\n",
              "                                                     [key], {});\n",
              "          if (!dataTable) return;\n",
              "\n",
              "          const docLinkHtml = 'Like what you see? Visit the ' +\n",
              "            '<a target=\"_blank\" href=https://colab.research.google.com/notebooks/data_table.ipynb>data table notebook</a>'\n",
              "            + ' to learn more about interactive tables.';\n",
              "          element.innerHTML = '';\n",
              "          dataTable['output_type'] = 'display_data';\n",
              "          await google.colab.output.renderOutput(dataTable, element);\n",
              "          const docLink = document.createElement('div');\n",
              "          docLink.innerHTML = docLinkHtml;\n",
              "          element.appendChild(docLink);\n",
              "        }\n",
              "      </script>\n",
              "    </div>\n",
              "  </div>\n",
              "  "
            ]
          },
          "metadata": {},
          "execution_count": 2
        }
      ]
    },
    {
      "cell_type": "code",
      "source": [
        "df.info()"
      ],
      "metadata": {
        "colab": {
          "base_uri": "https://localhost:8080/"
        },
        "id": "4hzxqV4SIhp-",
        "outputId": "35bd73a6-85d4-46c8-f618-a89d26c9b0d9"
      },
      "execution_count": 3,
      "outputs": [
        {
          "output_type": "stream",
          "name": "stdout",
          "text": [
            "<class 'pandas.core.frame.DataFrame'>\n",
            "RangeIndex: 9 entries, 0 to 8\n",
            "Data columns (total 3 columns):\n",
            " #   Column  Non-Null Count  Dtype \n",
            "---  ------  --------------  ----- \n",
            " 0   Mitra   9 non-null      object\n",
            " 1   Alamat  9 non-null      object\n",
            " 2   Modul   9 non-null      object\n",
            "dtypes: object(3)\n",
            "memory usage: 344.0+ bytes\n"
          ]
        }
      ]
    },
    {
      "cell_type": "markdown",
      "source": [
        "\n",
        "2.   **Tampilan Modul Pembelajaran (Sebelum Preprocessing)**\n",
        "\n"
      ],
      "metadata": {
        "id": "-QC4q1-UIqT9"
      }
    },
    {
      "cell_type": "code",
      "source": [
        "def print_description(index):\n",
        "    example = df[df.index == index][['Modul', 'Mitra','Alamat']].values[0]\n",
        "    if len(example) > 0:\n",
        "        print(example[0])\n",
        "        print('Mitra:', example[1])\n",
        "        print('Alamat:', example[2])"
      ],
      "metadata": {
        "id": "iBfvOiP0Ixm9"
      },
      "execution_count": 4,
      "outputs": []
    },
    {
      "cell_type": "code",
      "source": [
        "print_description(1)"
      ],
      "metadata": {
        "colab": {
          "base_uri": "https://localhost:8080/"
        },
        "id": "TYHqdqlaI3XO",
        "outputId": "26ddc075-9e47-447c-9f12-9f3e86a2819f"
      },
      "execution_count": 5,
      "outputs": [
        {
          "output_type": "stream",
          "name": "stdout",
          "text": [
            "Logika dan Konsep Teknologi AI Siklus Projek AI Pemrograman Python Metode Penelitian AI Proyek Akhir Kewirausahaan\n",
            "Mitra: Power Academy \n",
            "Alamat: Jl. Mampang Prapatan Raya no 84A Tegal Parang Mampang Prapatan Jakarta Selatan\n"
          ]
        }
      ]
    },
    {
      "cell_type": "code",
      "source": [
        "print_description(2)"
      ],
      "metadata": {
        "colab": {
          "base_uri": "https://localhost:8080/"
        },
        "id": "6BlxZpdqI7yU",
        "outputId": "27f48676-13ee-4c2e-edc6-fc55676d801a"
      },
      "execution_count": 8,
      "outputs": [
        {
          "output_type": "stream",
          "name": "stdout",
          "text": [
            "Kemampuan Literasi Numerasi dan Berpikir Saintifik Dasar-Dasar Data Science Pythone Statistik Visualisasi Data dan Analisis Data\n",
            "Mitra: Zenius \n",
            "Alamat: East Kuningan Setiabudi South Jakarta 12950 Indonesia\n"
          ]
        }
      ]
    },
    {
      "cell_type": "code",
      "source": [
        "print_description(0)"
      ],
      "metadata": {
        "colab": {
          "base_uri": "https://localhost:8080/"
        },
        "id": "cEfm_Oz0JPKO",
        "outputId": "9346dd57-54e5-4a9e-c84d-304f67b32d74"
      },
      "execution_count": 9,
      "outputs": [
        {
          "output_type": "stream",
          "name": "stdout",
          "text": [
            "Implementasi Basis Data Web Service Sistem Basis Data Pemrograman Web Jaringan Komputer Sistem Operasi Pemrograman Aplikasi Mobile Text Mining\n",
            "Mitra: Setyo Hendro Prayoga\n",
            "Alamat: Puguh RT 2 RW 1 Kec.Pegandon Kab.Kendal\n"
          ]
        }
      ]
    },
    {
      "cell_type": "markdown",
      "source": [
        "\n",
        "\n",
        "3.   **Text Preprocessing**\n",
        "\n"
      ],
      "metadata": {
        "id": "wG_Uo-a_JWe_"
      }
    },
    {
      "cell_type": "code",
      "source": [
        "import nltk\n",
        "nltk.download('stopwords')\n",
        "clean_spcl = re.compile('[/(){}\\[\\]\\|@,;]')\n",
        "clean_symbol = re.compile('[^0-9a-z #+_]')\n",
        "#stopworda = set(stopwords.words('english'))\n",
        "\n",
        "def clean_text(text):\n",
        "    \"\"\"\n",
        "        text: a string\n",
        "        \n",
        "        return: modified initial string\n",
        "    \"\"\"\n",
        "    text = text.lower() # lowercase text\n",
        "    text = clean_spcl.sub(' ', text)\n",
        "    text = clean_symbol.sub('', text)\n",
        "    #text = ' '.join(word for word in text.split() if word not in stopworda) # hapus stopword dari kolom deskripsi\n",
        "    return text\n",
        "    \n",
        "df['modul_pembelajaran_clean'] = df['Modul'].apply(clean_text)"
      ],
      "metadata": {
        "colab": {
          "base_uri": "https://localhost:8080/"
        },
        "id": "Yji2d-VcJfvB",
        "outputId": "1b7343a2-0716-4fd3-9f4a-93582d6e5c84"
      },
      "execution_count": 10,
      "outputs": [
        {
          "output_type": "stream",
          "name": "stderr",
          "text": [
            "[nltk_data] Downloading package stopwords to /root/nltk_data...\n",
            "[nltk_data]   Unzipping corpora/stopwords.zip.\n"
          ]
        }
      ]
    },
    {
      "cell_type": "code",
      "source": [
        "df.head()"
      ],
      "metadata": {
        "colab": {
          "base_uri": "https://localhost:8080/",
          "height": 206
        },
        "id": "bVbDs4O4JoHc",
        "outputId": "3bc9c160-2bf1-4882-a568-4d838883258e"
      },
      "execution_count": 11,
      "outputs": [
        {
          "output_type": "execute_result",
          "data": {
            "text/plain": [
              "                   Mitra                                             Alamat  \\\n",
              "0   Setyo Hendro Prayoga            Puguh RT 2 RW 1 Kec.Pegandon Kab.Kendal   \n",
              "1         Power Academy   Jl. Mampang Prapatan Raya no 84A Tegal Parang ...   \n",
              "2                Zenius   East Kuningan Setiabudi South Jakarta 12950 In...   \n",
              "3              Hacktiv8   Gedung Aquarius Lt. 1&2 Jl. Sultan Iskandar Mu...   \n",
              "4  Orbit Future Academy   Veteran RI Building 15th Floor Unit Z15-002 Pl...   \n",
              "\n",
              "                                               Modul  \\\n",
              "0  Implementasi Basis Data Web Service Sistem Bas...   \n",
              "1  Logika dan Konsep Teknologi AI Siklus Projek A...   \n",
              "2  Kemampuan Literasi Numerasi dan Berpikir Saint...   \n",
              "3  Memahami serta mengimplementasikan library hin...   \n",
              "4  Natural Language Processing Artificial Intelli...   \n",
              "\n",
              "                            modul_pembelajaran_clean  \n",
              "0  implementasi basis data web service sistem bas...  \n",
              "1  logika dan konsep teknologi ai siklus projek a...  \n",
              "2  kemampuan literasi numerasi dan berpikir saint...  \n",
              "3  memahami serta mengimplementasikan library hin...  \n",
              "4  natural language processing artificial intelli...  "
            ],
            "text/html": [
              "\n",
              "  <div id=\"df-4e1b67aa-71c3-4d5f-a7e1-819117c3d2de\">\n",
              "    <div class=\"colab-df-container\">\n",
              "      <div>\n",
              "<style scoped>\n",
              "    .dataframe tbody tr th:only-of-type {\n",
              "        vertical-align: middle;\n",
              "    }\n",
              "\n",
              "    .dataframe tbody tr th {\n",
              "        vertical-align: top;\n",
              "    }\n",
              "\n",
              "    .dataframe thead th {\n",
              "        text-align: right;\n",
              "    }\n",
              "</style>\n",
              "<table border=\"1\" class=\"dataframe\">\n",
              "  <thead>\n",
              "    <tr style=\"text-align: right;\">\n",
              "      <th></th>\n",
              "      <th>Mitra</th>\n",
              "      <th>Alamat</th>\n",
              "      <th>Modul</th>\n",
              "      <th>modul_pembelajaran_clean</th>\n",
              "    </tr>\n",
              "  </thead>\n",
              "  <tbody>\n",
              "    <tr>\n",
              "      <th>0</th>\n",
              "      <td>Setyo Hendro Prayoga</td>\n",
              "      <td>Puguh RT 2 RW 1 Kec.Pegandon Kab.Kendal</td>\n",
              "      <td>Implementasi Basis Data Web Service Sistem Bas...</td>\n",
              "      <td>implementasi basis data web service sistem bas...</td>\n",
              "    </tr>\n",
              "    <tr>\n",
              "      <th>1</th>\n",
              "      <td>Power Academy</td>\n",
              "      <td>Jl. Mampang Prapatan Raya no 84A Tegal Parang ...</td>\n",
              "      <td>Logika dan Konsep Teknologi AI Siklus Projek A...</td>\n",
              "      <td>logika dan konsep teknologi ai siklus projek a...</td>\n",
              "    </tr>\n",
              "    <tr>\n",
              "      <th>2</th>\n",
              "      <td>Zenius</td>\n",
              "      <td>East Kuningan Setiabudi South Jakarta 12950 In...</td>\n",
              "      <td>Kemampuan Literasi Numerasi dan Berpikir Saint...</td>\n",
              "      <td>kemampuan literasi numerasi dan berpikir saint...</td>\n",
              "    </tr>\n",
              "    <tr>\n",
              "      <th>3</th>\n",
              "      <td>Hacktiv8</td>\n",
              "      <td>Gedung Aquarius Lt. 1&amp;2 Jl. Sultan Iskandar Mu...</td>\n",
              "      <td>Memahami serta mengimplementasikan library hin...</td>\n",
              "      <td>memahami serta mengimplementasikan library hin...</td>\n",
              "    </tr>\n",
              "    <tr>\n",
              "      <th>4</th>\n",
              "      <td>Orbit Future Academy</td>\n",
              "      <td>Veteran RI Building 15th Floor Unit Z15-002 Pl...</td>\n",
              "      <td>Natural Language Processing Artificial Intelli...</td>\n",
              "      <td>natural language processing artificial intelli...</td>\n",
              "    </tr>\n",
              "  </tbody>\n",
              "</table>\n",
              "</div>\n",
              "      <button class=\"colab-df-convert\" onclick=\"convertToInteractive('df-4e1b67aa-71c3-4d5f-a7e1-819117c3d2de')\"\n",
              "              title=\"Convert this dataframe to an interactive table.\"\n",
              "              style=\"display:none;\">\n",
              "        \n",
              "  <svg xmlns=\"http://www.w3.org/2000/svg\" height=\"24px\"viewBox=\"0 0 24 24\"\n",
              "       width=\"24px\">\n",
              "    <path d=\"M0 0h24v24H0V0z\" fill=\"none\"/>\n",
              "    <path d=\"M18.56 5.44l.94 2.06.94-2.06 2.06-.94-2.06-.94-.94-2.06-.94 2.06-2.06.94zm-11 1L8.5 8.5l.94-2.06 2.06-.94-2.06-.94L8.5 2.5l-.94 2.06-2.06.94zm10 10l.94 2.06.94-2.06 2.06-.94-2.06-.94-.94-2.06-.94 2.06-2.06.94z\"/><path d=\"M17.41 7.96l-1.37-1.37c-.4-.4-.92-.59-1.43-.59-.52 0-1.04.2-1.43.59L10.3 9.45l-7.72 7.72c-.78.78-.78 2.05 0 2.83L4 21.41c.39.39.9.59 1.41.59.51 0 1.02-.2 1.41-.59l7.78-7.78 2.81-2.81c.8-.78.8-2.07 0-2.86zM5.41 20L4 18.59l7.72-7.72 1.47 1.35L5.41 20z\"/>\n",
              "  </svg>\n",
              "      </button>\n",
              "      \n",
              "  <style>\n",
              "    .colab-df-container {\n",
              "      display:flex;\n",
              "      flex-wrap:wrap;\n",
              "      gap: 12px;\n",
              "    }\n",
              "\n",
              "    .colab-df-convert {\n",
              "      background-color: #E8F0FE;\n",
              "      border: none;\n",
              "      border-radius: 50%;\n",
              "      cursor: pointer;\n",
              "      display: none;\n",
              "      fill: #1967D2;\n",
              "      height: 32px;\n",
              "      padding: 0 0 0 0;\n",
              "      width: 32px;\n",
              "    }\n",
              "\n",
              "    .colab-df-convert:hover {\n",
              "      background-color: #E2EBFA;\n",
              "      box-shadow: 0px 1px 2px rgba(60, 64, 67, 0.3), 0px 1px 3px 1px rgba(60, 64, 67, 0.15);\n",
              "      fill: #174EA6;\n",
              "    }\n",
              "\n",
              "    [theme=dark] .colab-df-convert {\n",
              "      background-color: #3B4455;\n",
              "      fill: #D2E3FC;\n",
              "    }\n",
              "\n",
              "    [theme=dark] .colab-df-convert:hover {\n",
              "      background-color: #434B5C;\n",
              "      box-shadow: 0px 1px 3px 1px rgba(0, 0, 0, 0.15);\n",
              "      filter: drop-shadow(0px 1px 2px rgba(0, 0, 0, 0.3));\n",
              "      fill: #FFFFFF;\n",
              "    }\n",
              "  </style>\n",
              "\n",
              "      <script>\n",
              "        const buttonEl =\n",
              "          document.querySelector('#df-4e1b67aa-71c3-4d5f-a7e1-819117c3d2de button.colab-df-convert');\n",
              "        buttonEl.style.display =\n",
              "          google.colab.kernel.accessAllowed ? 'block' : 'none';\n",
              "\n",
              "        async function convertToInteractive(key) {\n",
              "          const element = document.querySelector('#df-4e1b67aa-71c3-4d5f-a7e1-819117c3d2de');\n",
              "          const dataTable =\n",
              "            await google.colab.kernel.invokeFunction('convertToInteractive',\n",
              "                                                     [key], {});\n",
              "          if (!dataTable) return;\n",
              "\n",
              "          const docLinkHtml = 'Like what you see? Visit the ' +\n",
              "            '<a target=\"_blank\" href=https://colab.research.google.com/notebooks/data_table.ipynb>data table notebook</a>'\n",
              "            + ' to learn more about interactive tables.';\n",
              "          element.innerHTML = '';\n",
              "          dataTable['output_type'] = 'display_data';\n",
              "          await google.colab.output.renderOutput(dataTable, element);\n",
              "          const docLink = document.createElement('div');\n",
              "          docLink.innerHTML = docLinkHtml;\n",
              "          element.appendChild(docLink);\n",
              "        }\n",
              "      </script>\n",
              "    </div>\n",
              "  </div>\n",
              "  "
            ]
          },
          "metadata": {},
          "execution_count": 11
        }
      ]
    },
    {
      "cell_type": "markdown",
      "source": [
        "\n",
        "\n",
        "4.   **Tampilan Modul Pembelajaran (Setelah Preprocessing)**\n"
      ],
      "metadata": {
        "id": "bcSDoKSdJye_"
      }
    },
    {
      "cell_type": "code",
      "source": [
        "# Deskripsi kedua (Setelah preprocessing)\n",
        "def print_description_clean(index):\n",
        "    example = df[df.index == index][['modul_pembelajaran_clean', 'Mitra','Alamat']].values[0]\n",
        "    if len(example) > 0:\n",
        "        print(example[0])\n",
        "        print('Mitra:', example[1])\n",
        "        print('Alamat:', example[2])"
      ],
      "metadata": {
        "id": "3-9JhCwaJ59M"
      },
      "execution_count": 12,
      "outputs": []
    },
    {
      "cell_type": "code",
      "source": [
        "print_description_clean(1)"
      ],
      "metadata": {
        "colab": {
          "base_uri": "https://localhost:8080/"
        },
        "id": "IV-3TdX_J_38",
        "outputId": "4ad5fe39-380a-4be6-d62a-a2fba20a7c5d"
      },
      "execution_count": 13,
      "outputs": [
        {
          "output_type": "stream",
          "name": "stdout",
          "text": [
            "logika dan konsep teknologi ai siklus projek ai pemrograman python metode penelitian ai proyek akhir kewirausahaan\n",
            "Mitra: Power Academy \n",
            "Alamat: Jl. Mampang Prapatan Raya no 84A Tegal Parang Mampang Prapatan Jakarta Selatan\n"
          ]
        }
      ]
    },
    {
      "cell_type": "code",
      "source": [
        "print_description_clean(2)"
      ],
      "metadata": {
        "colab": {
          "base_uri": "https://localhost:8080/"
        },
        "id": "FpXNoXgFKFiH",
        "outputId": "eb14145c-1902-4c3a-db13-2bed1833480c"
      },
      "execution_count": 14,
      "outputs": [
        {
          "output_type": "stream",
          "name": "stdout",
          "text": [
            "kemampuan literasi numerasi dan berpikir saintifik dasardasar data science pythone statistik visualisasi data dan analisis data\n",
            "Mitra: Zenius \n",
            "Alamat: East Kuningan Setiabudi South Jakarta 12950 Indonesia\n"
          ]
        }
      ]
    },
    {
      "cell_type": "code",
      "source": [
        "print_description(0)"
      ],
      "metadata": {
        "colab": {
          "base_uri": "https://localhost:8080/"
        },
        "id": "HOxV14tLKIRx",
        "outputId": "f6feebb2-eefe-4b8a-b20f-90ef4003df74"
      },
      "execution_count": 15,
      "outputs": [
        {
          "output_type": "stream",
          "name": "stdout",
          "text": [
            "Implementasi Basis Data Web Service Sistem Basis Data Pemrograman Web Jaringan Komputer Sistem Operasi Pemrograman Aplikasi Mobile Text Mining\n",
            "Mitra: Setyo Hendro Prayoga\n",
            "Alamat: Puguh RT 2 RW 1 Kec.Pegandon Kab.Kendal\n"
          ]
        }
      ]
    },
    {
      "cell_type": "markdown",
      "source": [
        "\n",
        "\n",
        "5.  **TF-IDF & Cosine Similarity**"
      ],
      "metadata": {
        "id": "_IG4UBGwKOzx"
      }
    },
    {
      "cell_type": "code",
      "source": [
        "df.set_index('Mitra', inplace=True)\n",
        "tf = TfidfVectorizer(analyzer='word', ngram_range=(1, 3), min_df=0, stop_words='english')\n",
        "tfidf_matrix = tf.fit_transform(df['modul_pembelajaran_clean'])\n",
        "cos_sim = cosine_similarity(tfidf_matrix, tfidf_matrix)\n",
        "cos_sim"
      ],
      "metadata": {
        "colab": {
          "base_uri": "https://localhost:8080/"
        },
        "id": "Ji0eJQ4gKW8H",
        "outputId": "342025cd-2c01-417c-e4da-c70b091e3978"
      },
      "execution_count": 16,
      "outputs": [
        {
          "output_type": "execute_result",
          "data": {
            "text/plain": [
              "array([[1.        , 0.01959013, 0.06085598, 0.01327593, 0.02381961,\n",
              "        0.07367311, 0.        , 0.        , 0.        ],\n",
              "       [0.01959013, 1.        , 0.02243077, 0.        , 0.01742034,\n",
              "        0.02451708, 0.        , 0.        , 0.01111824],\n",
              "       [0.06085598, 0.02243077, 1.        , 0.        , 0.07698737,\n",
              "        0.        , 0.        , 0.        , 0.02302558],\n",
              "       [0.01327593, 0.        , 0.        , 1.        , 0.        ,\n",
              "        0.        , 0.        , 0.        , 0.01506932],\n",
              "       [0.02381961, 0.01742034, 0.07698737, 0.        , 1.        ,\n",
              "        0.        , 0.        , 0.        , 0.        ],\n",
              "       [0.07367311, 0.02451708, 0.        , 0.        , 0.        ,\n",
              "        1.        , 0.        , 0.        , 0.        ],\n",
              "       [0.        , 0.        , 0.        , 0.        , 0.        ,\n",
              "        0.        , 1.        , 0.43457932, 0.        ],\n",
              "       [0.        , 0.        , 0.        , 0.        , 0.        ,\n",
              "        0.        , 0.43457932, 1.        , 0.        ],\n",
              "       [0.        , 0.01111824, 0.02302558, 0.01506932, 0.        ,\n",
              "        0.        , 0.        , 0.        , 1.        ]])"
            ]
          },
          "metadata": {},
          "execution_count": 16
        }
      ]
    },
    {
      "cell_type": "code",
      "source": [
        "# Set index utama di kolom 'name'\n",
        "indices = pd.Series(df.index)\n",
        "indices[:50]"
      ],
      "metadata": {
        "colab": {
          "base_uri": "https://localhost:8080/"
        },
        "id": "FHthcAFtKjrL",
        "outputId": "fc23f712-1c81-4ffe-b71d-0e7b5c90e620"
      },
      "execution_count": 17,
      "outputs": [
        {
          "output_type": "execute_result",
          "data": {
            "text/plain": [
              "0     Setyo Hendro Prayoga\n",
              "1           Power Academy \n",
              "2                  Zenius \n",
              "3                Hacktiv8 \n",
              "4    Orbit Future Academy \n",
              "5             NF Computer \n",
              "6                Braindevs\n",
              "7               Braindevs \n",
              "8           Binar Academy \n",
              "Name: Mitra, dtype: object"
            ]
          },
          "metadata": {},
          "execution_count": 17
        }
      ]
    },
    {
      "cell_type": "markdown",
      "source": [
        "\n",
        "\n",
        "6. **Modelling**\n",
        "\n"
      ],
      "metadata": {
        "id": "584fGjHLKrI_"
      }
    },
    {
      "cell_type": "code",
      "source": [
        "def recommendations(name, cos_sim = cos_sim):\n",
        "    \n",
        "    recommended_modul = []\n",
        "    \n",
        "    # Mengambil nama modul berdasarkan variabel indicies\n",
        "    idx = indices[indices == name].index[0]\n",
        "\n",
        "    # Membuat series berdasarkan skor kesamaan\n",
        "    score_series = pd.Series(cos_sim[idx]).sort_values(ascending = False)\n",
        "\n",
        "    # mengambil index dan dibuat 3 baris rekomendasi terbaik\n",
        "    top_10_indexes = list(score_series.iloc[1:4].index)\n",
        "    \n",
        "    for i in top_10_indexes:\n",
        "        recommended_modul.append(list(df.index)[i])\n",
        "        \n",
        "    return recommended_modul"
      ],
      "metadata": {
        "id": "PryposnmKziQ"
      },
      "execution_count": 18,
      "outputs": []
    },
    {
      "cell_type": "markdown",
      "source": [
        "\n",
        "\n",
        "7. **Prediksi**\n",
        "\n"
      ],
      "metadata": {
        "id": "hO__-4GeK6pC"
      }
    },
    {
      "cell_type": "code",
      "source": [
        "recommendations('Setyo Hendro Prayoga')"
      ],
      "metadata": {
        "colab": {
          "base_uri": "https://localhost:8080/"
        },
        "id": "-mUw6bkRLCrZ",
        "outputId": "6d9c602e-4c37-4df8-ee54-1b061183ba9b"
      },
      "execution_count": 19,
      "outputs": [
        {
          "output_type": "execute_result",
          "data": {
            "text/plain": [
              "['NF Computer ', 'Zenius ', 'Orbit Future Academy ']"
            ]
          },
          "metadata": {},
          "execution_count": 19
        }
      ]
    },
    {
      "cell_type": "code",
      "source": [
        "recommendations(\"Braindevs\")"
      ],
      "metadata": {
        "colab": {
          "base_uri": "https://localhost:8080/"
        },
        "id": "mpybktGYLJa2",
        "outputId": "75e42086-6216-457c-9b21-716971800609"
      },
      "execution_count": 28,
      "outputs": [
        {
          "output_type": "execute_result",
          "data": {
            "text/plain": [
              "['Braindevs ', 'Setyo Hendro Prayoga', 'Power Academy ']"
            ]
          },
          "metadata": {},
          "execution_count": 28
        }
      ]
    }
  ]
}